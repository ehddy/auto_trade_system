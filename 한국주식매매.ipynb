{
 "cells": [
  {
   "cell_type": "code",
   "execution_count": 1,
   "metadata": {},
   "outputs": [],
   "source": [
    "import requests\n",
    "import json\n",
    "import datetime\n",
    "import time\n",
    "import yaml\n"
   ]
  },
  {
   "cell_type": "code",
   "execution_count": 2,
   "metadata": {},
   "outputs": [],
   "source": [
    "with open('config.yaml', encoding='UTF-8') as f:\n",
    "    _cfg = yaml.load(f, Loader=yaml.FullLoader)\n",
    "APP_KEY = _cfg['APP_KEY']\n",
    "APP_SECRET = _cfg['APP_SECRET']\n",
    "ACCESS_TOKEN = \"\"\n",
    "CANO = _cfg['CANO']\n",
    "ACNT_PRDT_CD = _cfg['ACNT_PRDT_CD']\n",
    "DISCORD_WEBHOOK_URL = _cfg['DISCORD_WEBHOOK_URL']\n",
    "URL_BASE = _cfg['URL_BASE']"
   ]
  },
  {
   "cell_type": "code",
   "execution_count": 5,
   "metadata": {},
   "outputs": [],
   "source": [
    "def send_message(msg):\n",
    "    \"\"\"디스코드 메세지 전송\"\"\"\n",
    "    now = datetime.datetime.now()\n",
    "    message = {\"content\": f\"[{now.strftime('%Y-%m-%d %H:%M:%S')}] {str(msg)}\"}\n",
    "    requests.post(DISCORD_WEBHOOK_URL, data=message)\n",
    "    print(message)"
   ]
  },
  {
   "cell_type": "code",
   "execution_count": 8,
   "metadata": {},
   "outputs": [],
   "source": [
    "def get_access_token():\n",
    "    \"\"\"토큰 발급\"\"\"\n",
    "    headers = {\"content-type\": \"application/json\"}\n",
    "    body = {\"grant_type\": \"client_credentials\",\n",
    "            \"appkey\": APP_KEY,\n",
    "            \"appsecret\": APP_SECRET}\n",
    "    PATH = \"oauth2/tokenP\"\n",
    "    URL = f\"{URL_BASE}/{PATH}\"\n",
    "    res = requests.post(URL, headers=headers, data=json.dumps(body))\n",
    "    ACCESS_TOKEN = res.json()[\"access_token\"]\n",
    "    return ACCESS_TOKEN\n"
   ]
  },
  {
   "cell_type": "code",
   "execution_count": 11,
   "metadata": {},
   "outputs": [],
   "source": [
    "def hashkey(datas):\n",
    "    \"\"\"암호화\"\"\"\n",
    "    PATH = \"uapi/hashkey\"\n",
    "    URL = f\"{URL_BASE}/{PATH}\"\n",
    "    headers = {\n",
    "        'content-Type': 'application/json',\n",
    "        'appKey': APP_KEY,\n",
    "        'appSecret': APP_SECRET,\n",
    "    }\n",
    "    res = requests.post(URL, headers=headers, data=json.dumps(datas))\n",
    "    hashkey = res.json()[\"HASH\"]\n",
    "    return hashkey"
   ]
  },
  {
   "cell_type": "code",
   "execution_count": 50,
   "metadata": {},
   "outputs": [],
   "source": [
    "def get_current_price(code=\"005930\"):\n",
    "    \"\"\"현재가 조회\"\"\"\n",
    "    PATH = \"uapi/domestic-stock/v1/quotations/inquire-price\"\n",
    "    URL = f\"{URL_BASE}/{PATH}\"\n",
    "    headers = {\"Content-Type\": \"application/json\",\n",
    "               \"authorization\": f\"Bearer {ACCESS_TOKEN}\",\n",
    "               \"appKey\": APP_KEY,\n",
    "               \"appSecret\": APP_SECRET,\n",
    "               \"tr_id\": \"FHKST01010100\"}\n",
    "    params = {\n",
    "        \"fid_cond_mrkt_div_code\": \"J\",\n",
    "        \"fid_input_iscd\": code,\n",
    "    }\n",
    "    res = requests.get(URL, headers=headers, params=params)\n",
    "\n",
    "    current_price = int(res.json()['output']['stck_prpr'])\n",
    "    # 전일대비 부호 \n",
    "    prdy_sign = int(res.json()['output']['prdy_vrss_sign'])\n",
    "\n",
    "    # 전딜대비 %\n",
    "    prdy_persent = res.json()['output']['prdy_vrss']\n",
    "\n",
    "    if prdy_sign == 1:\n",
    "        sign = '상한'\n",
    "    \n",
    "    elif prdy_sign == 2:\n",
    "        sign = '상승'\n",
    "    elif prdy_sign == 3:\n",
    "        sign = '보합'\n",
    "    elif prdy_sign == 4:\n",
    "        sign = '하한'\n",
    "    else:\n",
    "        sign = '하락'\n",
    "    \n",
    "    print('현재가는 {}이며, 전일 대비 {}포인트 <{}> 입니다. '.format(current_price, prdy_persent, sign))\n",
    "    \n",
    "    return current_price"
   ]
  },
  {
   "cell_type": "code",
   "execution_count": 51,
   "metadata": {},
   "outputs": [
    {
     "name": "stdout",
     "output_type": "stream",
     "text": [
      "현재가는 60200이며, 전일 대비 300포인트 <상승> 입니다. \n"
     ]
    },
    {
     "data": {
      "text/plain": [
       "60200"
      ]
     },
     "execution_count": 51,
     "metadata": {},
     "output_type": "execute_result"
    }
   ],
   "source": [
    "get_current_price()"
   ]
  },
  {
   "cell_type": "code",
   "execution_count": 24,
   "metadata": {},
   "outputs": [],
   "source": [
    "def get_stock_balance():\n",
    "    \"\"\"주식 잔고조회\"\"\"\n",
    "    PATH = \"uapi/domestic-stock/v1/trading/inquire-balance\"\n",
    "    URL = f\"{URL_BASE}/{PATH}\"\n",
    "    headers = {\"Content-Type\": \"application/json\",\n",
    "               \"authorization\": f\"Bearer {ACCESS_TOKEN}\",\n",
    "               \"appKey\": APP_KEY,\n",
    "               \"appSecret\": APP_SECRET,\n",
    "               # 실전 \n",
    "            #    \"tr_id\": \"TTTC8434R\",\n",
    "               # 모의 \n",
    "               \"tr_id\": \"VTTC8434R\",\n",
    "               \"custtype\": \"P\",\n",
    "               }\n",
    "    params = {\n",
    "        \"CANO\": CANO,\n",
    "        \"ACNT_PRDT_CD\": ACNT_PRDT_CD,\n",
    "        \"AFHR_FLPR_YN\": \"N\",\n",
    "        \"OFL_YN\": \"\",\n",
    "        \"INQR_DVSN\": \"02\",\n",
    "        \"UNPR_DVSN\": \"01\",\n",
    "        \"FUND_STTL_ICLD_YN\": \"N\",\n",
    "        \"FNCG_AMT_AUTO_RDPT_YN\": \"N\",\n",
    "        \"PRCS_DVSN\": \"01\",\n",
    "        \"CTX_AREA_FK100\": \"\",\n",
    "        \"CTX_AREA_NK100\": \"\"\n",
    "    }\n",
    "    res = requests.get(URL, headers=headers, params=params)\n",
    "    stock_list = res.json()['output1']\n",
    "    evaluation = res.json()['output2']\n",
    "    stock_dict = {}\n",
    "    send_message(f\"====주식 보유잔고====\")\n",
    "    for stock in stock_list:\n",
    "        if int(stock['hldgx_qty']) > 0:\n",
    "            stock_dict[stock['pdno']] = stock['hldg_qty']\n",
    "            send_message(\n",
    "                f\"{stock['prdt_name']}({stock['pdno']}): {stock['hldg_qty']}주\")\n",
    "            time.sleep(0.1)\n",
    "    send_message(f\"주식 평가 금액: {evaluation[0]['scts_evlu_amt']}원\")\n",
    "    time.sleep(0.1)\n",
    "    send_message(f\"평가 손익 합계: {evaluation[0]['evlu_pfls_smtl_amt']}원\")\n",
    "    time.sleep(0.1)\n",
    "    send_message(f\"총 평가 금액: {evaluation[0]['tot_evlu_amt']}원\")\n",
    "    time.sleep(0.1)\n",
    "    send_message(f\"=================\")\n",
    "    return stock_dict"
   ]
  },
  {
   "cell_type": "code",
   "execution_count": 26,
   "metadata": {},
   "outputs": [],
   "source": [
    "ACCESS_TOKEN = get_access_token()"
   ]
  },
  {
   "cell_type": "code",
   "execution_count": 32,
   "metadata": {},
   "outputs": [],
   "source": [
    "def get_balance():\n",
    "    \"\"\"현금 잔고조회\"\"\"\n",
    "    PATH = \"uapi/domestic-stock/v1/trading/inquire-psbl-order\"\n",
    "    URL = f\"{URL_BASE}/{PATH}\"\n",
    "    headers = {\"Content-Type\": \"application/json\",\n",
    "               \"authorization\": f\"Bearer {ACCESS_TOKEN}\",\n",
    "               \"appKey\": APP_KEY,\n",
    "               \"appSecret\": APP_SECRET,\n",
    "                 # 실전 \n",
    "            #    \"tr_id\": \"TTTC8908R\",\n",
    "               # 모의 \n",
    "               \"tr_id\": \"VTTC8908R\",\n",
    "               \"custtype\": \"P\",\n",
    "               }\n",
    "    params = {\n",
    "        \"CANO\": CANO,\n",
    "        \"ACNT_PRDT_CD\": ACNT_PRDT_CD,\n",
    "        \"PDNO\": \"005930\",\n",
    "        \"ORD_UNPR\": \"65500\",\n",
    "        \"ORD_DVSN\": \"01\",\n",
    "        \"CMA_EVLU_AMT_ICLD_YN\": \"Y\",\n",
    "        \"OVRS_ICLD_YN\": \"Y\"\n",
    "    }\n",
    "    res = requests.get(URL, headers=headers, params=params)\n",
    "    cash = res.json()['output']['ord_psbl_cash']\n",
    "    send_message(f\"주문 가능 현금 잔고: {cash}원\")\n",
    "    return int(cash)"
   ]
  },
  {
   "cell_type": "code",
   "execution_count": 35,
   "metadata": {},
   "outputs": [],
   "source": [
    "def buy(code=\"005930\", qty=\"1\"):\n",
    "    \"\"\"주식 시장가 매수\"\"\"\n",
    "    PATH = \"uapi/domestic-stock/v1/trading/order-cash\"\n",
    "    URL = f\"{URL_BASE}/{PATH}\"\n",
    "    data = {\n",
    "        \"CANO\": CANO,\n",
    "        \"ACNT_PRDT_CD\": ACNT_PRDT_CD,\n",
    "        \"PDNO\": code,\n",
    "        \"ORD_DVSN\": \"01\",\n",
    "        \"ORD_QTY\": str(int(qty)),\n",
    "        \"ORD_UNPR\": \"0\",\n",
    "    }\n",
    "    headers = {\"Content-Type\": \"application/json\",\n",
    "               \"authorization\": f\"Bearer {ACCESS_TOKEN}\",\n",
    "               \"appKey\": APP_KEY,\n",
    "               \"appSecret\": APP_SECRET,\n",
    "               # 실전 \n",
    "            #    \"tr_id\": \"TTTC0802U\",\n",
    "\n",
    "               # 모의 \n",
    "               \"tr_id\": \"VTTC0802U\",\n",
    "               \"custtype\": \"P\",\n",
    "               \"hashkey\": hashkey(data)\n",
    "               }\n",
    "    res = requests.post(URL, headers=headers, data=json.dumps(data))\n",
    "    if res.json()['rt_cd'] == '0':\n",
    "        send_message(f\"[매수 성공]{str(res.json())}\")\n",
    "        return True\n",
    "    else:\n",
    "        send_message(f\"[매수 실패]{str(res.json())}\")\n",
    "        return False"
   ]
  },
  {
   "cell_type": "code",
   "execution_count": 37,
   "metadata": {},
   "outputs": [],
   "source": [
    "def sell(code=\"005930\", qty=\"1\"):\n",
    "    \"\"\"주식 시장가 매도\"\"\"\n",
    "    PATH = \"uapi/domestic-stock/v1/trading/order-cash\"\n",
    "    URL = f\"{URL_BASE}/{PATH}\"\n",
    "    data = {\n",
    "        \"CANO\": CANO,\n",
    "        \"ACNT_PRDT_CD\": ACNT_PRDT_CD,\n",
    "        \"PDNO\": code,\n",
    "        \"ORD_DVSN\": \"01\",\n",
    "        \"ORD_QTY\": qty,\n",
    "        \"ORD_UNPR\": \"0\",\n",
    "    }\n",
    "    headers = {\"Content-Type\": \"application/json\",\n",
    "               \"authorization\": f\"Bearer {ACCESS_TOKEN}\",\n",
    "               \"appKey\": APP_KEY,\n",
    "               \"appSecret\": APP_SECRET,\n",
    "\n",
    "               # 실전\n",
    "            #    \"tr_id\": \"TTTC0801U\",\n",
    "\n",
    "               # 모의\n",
    "               \"tr_id\": \"VTTC0801U\",\n",
    "               \"custtype\": \"P\",\n",
    "               \"hashkey\": hashkey(data)\n",
    "               }\n",
    "    res = requests.post(URL, headers=headers, data=json.dumps(data))\n",
    "    if res.json()['rt_cd'] == '0':\n",
    "        send_message(f\"[매도 성공]{str(res.json())}\")\n",
    "        return True\n",
    "    else:\n",
    "        send_message(f\"[매도 실패]{str(res.json())}\")\n",
    "        return False"
   ]
  },
  {
   "cell_type": "code",
   "execution_count": 38,
   "metadata": {},
   "outputs": [
    {
     "name": "stdout",
     "output_type": "stream",
     "text": [
      "{'content': \"[2022-08-15 14:21:57] [매도 실패]{'rt_cd': '1', 'msg_cd': '40100000', 'msg1': '모의투자 영업일이 아닙니다.'}\"}\n"
     ]
    },
    {
     "data": {
      "text/plain": [
       "False"
      ]
     },
     "execution_count": 38,
     "metadata": {},
     "output_type": "execute_result"
    }
   ],
   "source": [
    "sell()"
   ]
  },
  {
   "cell_type": "code",
   "execution_count": 21,
   "metadata": {},
   "outputs": [
    {
     "data": {
      "text/plain": [
       "{'rt_cd': '1',\n",
       " 'msg_cd': 'EGW00205',\n",
       " 'msg1': 'credentials_type이 유효하지 않습니다.(Bearer)'}"
      ]
     },
     "execution_count": 21,
     "metadata": {},
     "output_type": "execute_result"
    }
   ],
   "source": [
    "a.json()"
   ]
  },
  {
   "cell_type": "code",
   "execution_count": null,
   "metadata": {},
   "outputs": [],
   "source": []
  }
 ],
 "metadata": {
  "kernelspec": {
   "display_name": "Python 3.9.7 ('web')",
   "language": "python",
   "name": "python3"
  },
  "language_info": {
   "codemirror_mode": {
    "name": "ipython",
    "version": 3
   },
   "file_extension": ".py",
   "mimetype": "text/x-python",
   "name": "python",
   "nbconvert_exporter": "python",
   "pygments_lexer": "ipython3",
   "version": "3.9.7"
  },
  "orig_nbformat": 4,
  "vscode": {
   "interpreter": {
    "hash": "cd114b8300915b408f8737386ba73678775d4fa411a36e2ebe5a24774ea7c80f"
   }
  }
 },
 "nbformat": 4,
 "nbformat_minor": 2
}
